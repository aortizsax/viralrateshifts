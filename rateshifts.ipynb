{
 "cells": [
  {
   "cell_type": "markdown",
   "id": "8637a256",
   "metadata": {},
   "source": [
    "# Calculating shifts in rate of mutation"
   ]
  },
  {
   "cell_type": "markdown",
   "id": "4140b5ee",
   "metadata": {},
   "source": [
    "This notebook showcases a piecewise linear analysis applied to viral divergence data. We can use readily available sequence and metadata from nextstrain and compare their linear analyis to this piecewise analysis"
   ]
  },
  {
   "cell_type": "code",
   "execution_count": 13,
   "id": "307c676b",
   "metadata": {},
   "outputs": [],
   "source": [
    "#import packages\n",
    "import dendropy\n",
    "import pandas as pd\n",
    "import os\n",
    "import matplotlib.pyplot as plt\n",
    "import matplotlib\n",
    "import numpy as np\n",
    "from sklearn.linear_model import LinearRegression\n",
    "import piecewise_regression\n",
    "np.random.seed(1380649)"
   ]
  },
  {
   "cell_type": "markdown",
   "id": "0062009c",
   "metadata": {},
   "source": [
    "## 1 Load data"
   ]
  },
  {
   "cell_type": "markdown",
   "id": "27782a88",
   "metadata": {},
   "source": [
    "### Load tree"
   ]
  },
  {
   "cell_type": "code",
   "execution_count": 9,
   "id": "208ce8db",
   "metadata": {},
   "outputs": [],
   "source": [
    "tree = dendropy.Tree.get(\n",
    "    path=\"11-02_nextstrain_ncov_open_global_6m_tree(1).nwk\",\n",
    "    schema=\"newick\",\n",
    "    )\n",
    "pdm = tree.phylogenetic_distance_matrix()\n"
   ]
  },
  {
   "cell_type": "markdown",
   "id": "b3d66f05",
   "metadata": {},
   "source": [
    "### Check tree"
   ]
  },
  {
   "cell_type": "code",
   "execution_count": 32,
   "id": "e389d8a6",
   "metadata": {
    "scrolled": false
   },
   "outputs": [
    {
     "name": "stdout",
     "output_type": "stream",
     "text": [
      "(('Wuhan-Hu-1/2019':0.0,(('GBR\n"
     ]
    }
   ],
   "source": [
    "print(tree.as_string('newick')[:30])"
   ]
  },
  {
   "cell_type": "markdown",
   "id": "1ae6b506",
   "metadata": {},
   "source": [
    "### Load metadata"
   ]
  },
  {
   "cell_type": "code",
   "execution_count": 11,
   "id": "28cce385",
   "metadata": {},
   "outputs": [
    {
     "name": "stderr",
     "output_type": "stream",
     "text": [
      "/home/anov/anaconda3/lib/python3.9/site-packages/IPython/core/interactiveshell.py:3369: FutureWarning: In a future version of pandas all arguments of read_csv except for the argument 'filepath_or_buffer' will be keyword-only.\n",
      "  exec(code_obj, self.user_global_ns, self.user_ns)\n",
      "/tmp/ipykernel_113972/4239045616.py:1: DtypeWarning: Columns (4,9,45,50) have mixed types. Specify dtype option on import or set low_memory=False.\n",
      "  metadata = pd.read_csv('11-02_bmetadata.tsv','\\t')\n"
     ]
    },
    {
     "data": {
      "text/html": [
       "<div>\n",
       "<style scoped>\n",
       "    .dataframe tbody tr th:only-of-type {\n",
       "        vertical-align: middle;\n",
       "    }\n",
       "\n",
       "    .dataframe tbody tr th {\n",
       "        vertical-align: top;\n",
       "    }\n",
       "\n",
       "    .dataframe thead th {\n",
       "        text-align: right;\n",
       "    }\n",
       "</style>\n",
       "<table border=\"1\" class=\"dataframe\">\n",
       "  <thead>\n",
       "    <tr style=\"text-align: right;\">\n",
       "      <th></th>\n",
       "      <th>strain</th>\n",
       "      <th>virus</th>\n",
       "      <th>gisaid_epi_isl</th>\n",
       "      <th>genbank_accession</th>\n",
       "      <th>sra_accession</th>\n",
       "      <th>date</th>\n",
       "      <th>region</th>\n",
       "      <th>country</th>\n",
       "      <th>division</th>\n",
       "      <th>location</th>\n",
       "      <th>...</th>\n",
       "      <th>QC_frame_shifts</th>\n",
       "      <th>QC_stop_codons</th>\n",
       "      <th>QC_overall_score</th>\n",
       "      <th>QC_overall_status</th>\n",
       "      <th>frame_shifts</th>\n",
       "      <th>deletions</th>\n",
       "      <th>insertions</th>\n",
       "      <th>substitutions</th>\n",
       "      <th>aaSubstitutions</th>\n",
       "      <th>clock_deviation</th>\n",
       "    </tr>\n",
       "  </thead>\n",
       "  <tbody>\n",
       "    <tr>\n",
       "      <th>0</th>\n",
       "      <td>?</td>\n",
       "      <td>ncov</td>\n",
       "      <td>EPI_ISL_8303487</td>\n",
       "      <td>OV377246</td>\n",
       "      <td>ERR7904006</td>\n",
       "      <td>?</td>\n",
       "      <td>Europe</td>\n",
       "      <td>United Kingdom</td>\n",
       "      <td>?</td>\n",
       "      <td>NaN</td>\n",
       "      <td>...</td>\n",
       "      <td>good</td>\n",
       "      <td>good</td>\n",
       "      <td>4378.330003</td>\n",
       "      <td>bad</td>\n",
       "      <td>NaN</td>\n",
       "      <td>6513-6515</td>\n",
       "      <td>22195:NTAGTGCGT,25695:GAA</td>\n",
       "      <td>C241T,A2832G,C3037T,C7124T,G8393A,G9441T,C1002...</td>\n",
       "      <td>M:I82T,ORF1a:K856R,ORF1a:L2084I,ORF1a:P2287S,O...</td>\n",
       "      <td>?</td>\n",
       "    </tr>\n",
       "    <tr>\n",
       "      <th>1</th>\n",
       "      <td>ARG/210316-1/2021</td>\n",
       "      <td>ncov</td>\n",
       "      <td>?</td>\n",
       "      <td>OL989073</td>\n",
       "      <td>NaN</td>\n",
       "      <td>2021-03-15</td>\n",
       "      <td>South America</td>\n",
       "      <td>Argentina</td>\n",
       "      <td>Argentina</td>\n",
       "      <td>NaN</td>\n",
       "      <td>...</td>\n",
       "      <td>good</td>\n",
       "      <td>good</td>\n",
       "      <td>14.062500</td>\n",
       "      <td>good</td>\n",
       "      <td>NaN</td>\n",
       "      <td>NaN</td>\n",
       "      <td>NaN</td>\n",
       "      <td>C66T,C241T,C3037T,A4926G,A5574G,C7564A,C8139T,...</td>\n",
       "      <td>N:R203K,N:G204R,ORF1a:D1554G,ORF1a:Y1770C,ORF1...</td>\n",
       "      <td>2.0</td>\n",
       "    </tr>\n",
       "    <tr>\n",
       "      <th>2</th>\n",
       "      <td>ARG/210524-2/2021</td>\n",
       "      <td>ncov</td>\n",
       "      <td>?</td>\n",
       "      <td>OL989092</td>\n",
       "      <td>NaN</td>\n",
       "      <td>2021-05-17</td>\n",
       "      <td>South America</td>\n",
       "      <td>Argentina</td>\n",
       "      <td>Argentina</td>\n",
       "      <td>NaN</td>\n",
       "      <td>...</td>\n",
       "      <td>good</td>\n",
       "      <td>good</td>\n",
       "      <td>4.340278</td>\n",
       "      <td>good</td>\n",
       "      <td>NaN</td>\n",
       "      <td>NaN</td>\n",
       "      <td>NaN</td>\n",
       "      <td>A22G,C241T,C913T,C3037T,C3177T,C3267T,C5388A,C...</td>\n",
       "      <td>N:D3L,N:R203K,N:G204R,N:S235F,N:A308S,ORF1a:P9...</td>\n",
       "      <td>3.0</td>\n",
       "    </tr>\n",
       "    <tr>\n",
       "      <th>3</th>\n",
       "      <td>ARG/210610-225/2021</td>\n",
       "      <td>ncov</td>\n",
       "      <td>?</td>\n",
       "      <td>OL989093</td>\n",
       "      <td>NaN</td>\n",
       "      <td>2021-06-07</td>\n",
       "      <td>South America</td>\n",
       "      <td>Argentina</td>\n",
       "      <td>Argentina</td>\n",
       "      <td>NaN</td>\n",
       "      <td>...</td>\n",
       "      <td>good</td>\n",
       "      <td>good</td>\n",
       "      <td>50.173611</td>\n",
       "      <td>mediocre</td>\n",
       "      <td>NaN</td>\n",
       "      <td>NaN</td>\n",
       "      <td>NaN</td>\n",
       "      <td>C241T,C913T,A1967G,C3037T,C3177T,C3267T,C5388A...</td>\n",
       "      <td>N:D3L,N:P151L,N:R203K,N:G204R,N:S235F,ORF1a:T5...</td>\n",
       "      <td>0.0</td>\n",
       "    </tr>\n",
       "    <tr>\n",
       "      <th>4</th>\n",
       "      <td>ARG/210613-39/2021</td>\n",
       "      <td>ncov</td>\n",
       "      <td>?</td>\n",
       "      <td>OL989084</td>\n",
       "      <td>NaN</td>\n",
       "      <td>2021-06-07</td>\n",
       "      <td>South America</td>\n",
       "      <td>Argentina</td>\n",
       "      <td>Argentina</td>\n",
       "      <td>NaN</td>\n",
       "      <td>...</td>\n",
       "      <td>good</td>\n",
       "      <td>good</td>\n",
       "      <td>6.250000</td>\n",
       "      <td>good</td>\n",
       "      <td>NaN</td>\n",
       "      <td>NaN</td>\n",
       "      <td>NaN</td>\n",
       "      <td>C241T,T733C,A2596G,C2749T,C3037T,C3828T,A5648C...</td>\n",
       "      <td>M:H125Y,N:P80R,N:R203K,N:G204R,ORF1a:S1188L,OR...</td>\n",
       "      <td>0.0</td>\n",
       "    </tr>\n",
       "  </tbody>\n",
       "</table>\n",
       "<p>5 rows × 51 columns</p>\n",
       "</div>"
      ],
      "text/plain": [
       "                strain virus   gisaid_epi_isl genbank_accession sra_accession  \\\n",
       "0                    ?  ncov  EPI_ISL_8303487          OV377246    ERR7904006   \n",
       "1    ARG/210316-1/2021  ncov                ?          OL989073           NaN   \n",
       "2    ARG/210524-2/2021  ncov                ?          OL989092           NaN   \n",
       "3  ARG/210610-225/2021  ncov                ?          OL989093           NaN   \n",
       "4   ARG/210613-39/2021  ncov                ?          OL989084           NaN   \n",
       "\n",
       "         date         region         country   division location  ...  \\\n",
       "0           ?         Europe  United Kingdom          ?      NaN  ...   \n",
       "1  2021-03-15  South America       Argentina  Argentina      NaN  ...   \n",
       "2  2021-05-17  South America       Argentina  Argentina      NaN  ...   \n",
       "3  2021-06-07  South America       Argentina  Argentina      NaN  ...   \n",
       "4  2021-06-07  South America       Argentina  Argentina      NaN  ...   \n",
       "\n",
       "  QC_frame_shifts QC_stop_codons QC_overall_score QC_overall_status  \\\n",
       "0            good           good      4378.330003               bad   \n",
       "1            good           good        14.062500              good   \n",
       "2            good           good         4.340278              good   \n",
       "3            good           good        50.173611          mediocre   \n",
       "4            good           good         6.250000              good   \n",
       "\n",
       "   frame_shifts  deletions                 insertions  \\\n",
       "0           NaN  6513-6515  22195:NTAGTGCGT,25695:GAA   \n",
       "1           NaN        NaN                        NaN   \n",
       "2           NaN        NaN                        NaN   \n",
       "3           NaN        NaN                        NaN   \n",
       "4           NaN        NaN                        NaN   \n",
       "\n",
       "                                       substitutions  \\\n",
       "0  C241T,A2832G,C3037T,C7124T,G8393A,G9441T,C1002...   \n",
       "1  C66T,C241T,C3037T,A4926G,A5574G,C7564A,C8139T,...   \n",
       "2  A22G,C241T,C913T,C3037T,C3177T,C3267T,C5388A,C...   \n",
       "3  C241T,C913T,A1967G,C3037T,C3177T,C3267T,C5388A...   \n",
       "4  C241T,T733C,A2596G,C2749T,C3037T,C3828T,A5648C...   \n",
       "\n",
       "                                     aaSubstitutions clock_deviation  \n",
       "0  M:I82T,ORF1a:K856R,ORF1a:L2084I,ORF1a:P2287S,O...               ?  \n",
       "1  N:R203K,N:G204R,ORF1a:D1554G,ORF1a:Y1770C,ORF1...             2.0  \n",
       "2  N:D3L,N:R203K,N:G204R,N:S235F,N:A308S,ORF1a:P9...             3.0  \n",
       "3  N:D3L,N:P151L,N:R203K,N:G204R,N:S235F,ORF1a:T5...             0.0  \n",
       "4  M:H125Y,N:P80R,N:R203K,N:G204R,ORF1a:S1188L,OR...             0.0  \n",
       "\n",
       "[5 rows x 51 columns]"
      ]
     },
     "execution_count": 11,
     "metadata": {},
     "output_type": "execute_result"
    }
   ],
   "source": [
    "metadata = pd.read_csv('11-02_bmetadata.tsv','\\t')\n",
    "metadata.head()"
   ]
  },
  {
   "cell_type": "markdown",
   "id": "7ccfb2d6",
   "metadata": {},
   "source": [
    "### Check metadata"
   ]
  },
  {
   "cell_type": "code",
   "execution_count": 12,
   "id": "2a6385b0",
   "metadata": {},
   "outputs": [
    {
     "name": "stdout",
     "output_type": "stream",
     "text": [
      "2019-12-26\n"
     ]
    },
    {
     "data": {
      "text/html": [
       "<div>\n",
       "<style scoped>\n",
       "    .dataframe tbody tr th:only-of-type {\n",
       "        vertical-align: middle;\n",
       "    }\n",
       "\n",
       "    .dataframe tbody tr th {\n",
       "        vertical-align: top;\n",
       "    }\n",
       "\n",
       "    .dataframe thead th {\n",
       "        text-align: right;\n",
       "    }\n",
       "</style>\n",
       "<table border=\"1\" class=\"dataframe\">\n",
       "  <thead>\n",
       "    <tr style=\"text-align: right;\">\n",
       "      <th></th>\n",
       "      <th>strain</th>\n",
       "      <th>virus</th>\n",
       "      <th>gisaid_epi_isl</th>\n",
       "      <th>genbank_accession</th>\n",
       "      <th>sra_accession</th>\n",
       "      <th>date</th>\n",
       "      <th>region</th>\n",
       "      <th>country</th>\n",
       "      <th>division</th>\n",
       "      <th>location</th>\n",
       "      <th>...</th>\n",
       "      <th>QC_frame_shifts</th>\n",
       "      <th>QC_stop_codons</th>\n",
       "      <th>QC_overall_score</th>\n",
       "      <th>QC_overall_status</th>\n",
       "      <th>frame_shifts</th>\n",
       "      <th>deletions</th>\n",
       "      <th>insertions</th>\n",
       "      <th>substitutions</th>\n",
       "      <th>aaSubstitutions</th>\n",
       "      <th>clock_deviation</th>\n",
       "    </tr>\n",
       "    <tr>\n",
       "      <th>strain</th>\n",
       "      <th></th>\n",
       "      <th></th>\n",
       "      <th></th>\n",
       "      <th></th>\n",
       "      <th></th>\n",
       "      <th></th>\n",
       "      <th></th>\n",
       "      <th></th>\n",
       "      <th></th>\n",
       "      <th></th>\n",
       "      <th></th>\n",
       "      <th></th>\n",
       "      <th></th>\n",
       "      <th></th>\n",
       "      <th></th>\n",
       "      <th></th>\n",
       "      <th></th>\n",
       "      <th></th>\n",
       "      <th></th>\n",
       "      <th></th>\n",
       "      <th></th>\n",
       "    </tr>\n",
       "  </thead>\n",
       "  <tbody>\n",
       "    <tr>\n",
       "      <th>?</th>\n",
       "      <td>?</td>\n",
       "      <td>ncov</td>\n",
       "      <td>EPI_ISL_8303487</td>\n",
       "      <td>OV377246</td>\n",
       "      <td>ERR7904006</td>\n",
       "      <td>?</td>\n",
       "      <td>Europe</td>\n",
       "      <td>United Kingdom</td>\n",
       "      <td>?</td>\n",
       "      <td>NaN</td>\n",
       "      <td>...</td>\n",
       "      <td>good</td>\n",
       "      <td>good</td>\n",
       "      <td>4378.330003</td>\n",
       "      <td>bad</td>\n",
       "      <td>NaN</td>\n",
       "      <td>6513-6515</td>\n",
       "      <td>22195:NTAGTGCGT,25695:GAA</td>\n",
       "      <td>C241T,A2832G,C3037T,C7124T,G8393A,G9441T,C1002...</td>\n",
       "      <td>M:I82T,ORF1a:K856R,ORF1a:L2084I,ORF1a:P2287S,O...</td>\n",
       "      <td>?</td>\n",
       "    </tr>\n",
       "    <tr>\n",
       "      <th>ARG/210316-1/2021</th>\n",
       "      <td>ARG/210316-1/2021</td>\n",
       "      <td>ncov</td>\n",
       "      <td>?</td>\n",
       "      <td>OL989073</td>\n",
       "      <td>NaN</td>\n",
       "      <td>2021-03-15</td>\n",
       "      <td>South America</td>\n",
       "      <td>Argentina</td>\n",
       "      <td>Argentina</td>\n",
       "      <td>NaN</td>\n",
       "      <td>...</td>\n",
       "      <td>good</td>\n",
       "      <td>good</td>\n",
       "      <td>14.062500</td>\n",
       "      <td>good</td>\n",
       "      <td>NaN</td>\n",
       "      <td>NaN</td>\n",
       "      <td>NaN</td>\n",
       "      <td>C66T,C241T,C3037T,A4926G,A5574G,C7564A,C8139T,...</td>\n",
       "      <td>N:R203K,N:G204R,ORF1a:D1554G,ORF1a:Y1770C,ORF1...</td>\n",
       "      <td>2.0</td>\n",
       "    </tr>\n",
       "    <tr>\n",
       "      <th>ARG/210524-2/2021</th>\n",
       "      <td>ARG/210524-2/2021</td>\n",
       "      <td>ncov</td>\n",
       "      <td>?</td>\n",
       "      <td>OL989092</td>\n",
       "      <td>NaN</td>\n",
       "      <td>2021-05-17</td>\n",
       "      <td>South America</td>\n",
       "      <td>Argentina</td>\n",
       "      <td>Argentina</td>\n",
       "      <td>NaN</td>\n",
       "      <td>...</td>\n",
       "      <td>good</td>\n",
       "      <td>good</td>\n",
       "      <td>4.340278</td>\n",
       "      <td>good</td>\n",
       "      <td>NaN</td>\n",
       "      <td>NaN</td>\n",
       "      <td>NaN</td>\n",
       "      <td>A22G,C241T,C913T,C3037T,C3177T,C3267T,C5388A,C...</td>\n",
       "      <td>N:D3L,N:R203K,N:G204R,N:S235F,N:A308S,ORF1a:P9...</td>\n",
       "      <td>3.0</td>\n",
       "    </tr>\n",
       "    <tr>\n",
       "      <th>ARG/210610-225/2021</th>\n",
       "      <td>ARG/210610-225/2021</td>\n",
       "      <td>ncov</td>\n",
       "      <td>?</td>\n",
       "      <td>OL989093</td>\n",
       "      <td>NaN</td>\n",
       "      <td>2021-06-07</td>\n",
       "      <td>South America</td>\n",
       "      <td>Argentina</td>\n",
       "      <td>Argentina</td>\n",
       "      <td>NaN</td>\n",
       "      <td>...</td>\n",
       "      <td>good</td>\n",
       "      <td>good</td>\n",
       "      <td>50.173611</td>\n",
       "      <td>mediocre</td>\n",
       "      <td>NaN</td>\n",
       "      <td>NaN</td>\n",
       "      <td>NaN</td>\n",
       "      <td>C241T,C913T,A1967G,C3037T,C3177T,C3267T,C5388A...</td>\n",
       "      <td>N:D3L,N:P151L,N:R203K,N:G204R,N:S235F,ORF1a:T5...</td>\n",
       "      <td>0.0</td>\n",
       "    </tr>\n",
       "    <tr>\n",
       "      <th>ARG/210613-39/2021</th>\n",
       "      <td>ARG/210613-39/2021</td>\n",
       "      <td>ncov</td>\n",
       "      <td>?</td>\n",
       "      <td>OL989084</td>\n",
       "      <td>NaN</td>\n",
       "      <td>2021-06-07</td>\n",
       "      <td>South America</td>\n",
       "      <td>Argentina</td>\n",
       "      <td>Argentina</td>\n",
       "      <td>NaN</td>\n",
       "      <td>...</td>\n",
       "      <td>good</td>\n",
       "      <td>good</td>\n",
       "      <td>6.250000</td>\n",
       "      <td>good</td>\n",
       "      <td>NaN</td>\n",
       "      <td>NaN</td>\n",
       "      <td>NaN</td>\n",
       "      <td>C241T,T733C,A2596G,C2749T,C3037T,C3828T,A5648C...</td>\n",
       "      <td>M:H125Y,N:P80R,N:R203K,N:G204R,ORF1a:S1188L,OR...</td>\n",
       "      <td>0.0</td>\n",
       "    </tr>\n",
       "  </tbody>\n",
       "</table>\n",
       "<p>5 rows × 51 columns</p>\n",
       "</div>"
      ],
      "text/plain": [
       "                                  strain virus   gisaid_epi_isl  \\\n",
       "strain                                                            \n",
       "?                                      ?  ncov  EPI_ISL_8303487   \n",
       "ARG/210316-1/2021      ARG/210316-1/2021  ncov                ?   \n",
       "ARG/210524-2/2021      ARG/210524-2/2021  ncov                ?   \n",
       "ARG/210610-225/2021  ARG/210610-225/2021  ncov                ?   \n",
       "ARG/210613-39/2021    ARG/210613-39/2021  ncov                ?   \n",
       "\n",
       "                    genbank_accession sra_accession        date  \\\n",
       "strain                                                            \n",
       "?                            OV377246    ERR7904006           ?   \n",
       "ARG/210316-1/2021            OL989073           NaN  2021-03-15   \n",
       "ARG/210524-2/2021            OL989092           NaN  2021-05-17   \n",
       "ARG/210610-225/2021          OL989093           NaN  2021-06-07   \n",
       "ARG/210613-39/2021           OL989084           NaN  2021-06-07   \n",
       "\n",
       "                            region         country   division location  ...  \\\n",
       "strain                                                                  ...   \n",
       "?                           Europe  United Kingdom          ?      NaN  ...   \n",
       "ARG/210316-1/2021    South America       Argentina  Argentina      NaN  ...   \n",
       "ARG/210524-2/2021    South America       Argentina  Argentina      NaN  ...   \n",
       "ARG/210610-225/2021  South America       Argentina  Argentina      NaN  ...   \n",
       "ARG/210613-39/2021   South America       Argentina  Argentina      NaN  ...   \n",
       "\n",
       "                    QC_frame_shifts QC_stop_codons QC_overall_score  \\\n",
       "strain                                                                \n",
       "?                              good           good      4378.330003   \n",
       "ARG/210316-1/2021              good           good        14.062500   \n",
       "ARG/210524-2/2021              good           good         4.340278   \n",
       "ARG/210610-225/2021            good           good        50.173611   \n",
       "ARG/210613-39/2021             good           good         6.250000   \n",
       "\n",
       "                    QC_overall_status  frame_shifts  deletions  \\\n",
       "strain                                                           \n",
       "?                                 bad           NaN  6513-6515   \n",
       "ARG/210316-1/2021                good           NaN        NaN   \n",
       "ARG/210524-2/2021                good           NaN        NaN   \n",
       "ARG/210610-225/2021          mediocre           NaN        NaN   \n",
       "ARG/210613-39/2021               good           NaN        NaN   \n",
       "\n",
       "                                    insertions  \\\n",
       "strain                                           \n",
       "?                    22195:NTAGTGCGT,25695:GAA   \n",
       "ARG/210316-1/2021                          NaN   \n",
       "ARG/210524-2/2021                          NaN   \n",
       "ARG/210610-225/2021                        NaN   \n",
       "ARG/210613-39/2021                         NaN   \n",
       "\n",
       "                                                         substitutions  \\\n",
       "strain                                                                   \n",
       "?                    C241T,A2832G,C3037T,C7124T,G8393A,G9441T,C1002...   \n",
       "ARG/210316-1/2021    C66T,C241T,C3037T,A4926G,A5574G,C7564A,C8139T,...   \n",
       "ARG/210524-2/2021    A22G,C241T,C913T,C3037T,C3177T,C3267T,C5388A,C...   \n",
       "ARG/210610-225/2021  C241T,C913T,A1967G,C3037T,C3177T,C3267T,C5388A...   \n",
       "ARG/210613-39/2021   C241T,T733C,A2596G,C2749T,C3037T,C3828T,A5648C...   \n",
       "\n",
       "                                                       aaSubstitutions  \\\n",
       "strain                                                                   \n",
       "?                    M:I82T,ORF1a:K856R,ORF1a:L2084I,ORF1a:P2287S,O...   \n",
       "ARG/210316-1/2021    N:R203K,N:G204R,ORF1a:D1554G,ORF1a:Y1770C,ORF1...   \n",
       "ARG/210524-2/2021    N:D3L,N:R203K,N:G204R,N:S235F,N:A308S,ORF1a:P9...   \n",
       "ARG/210610-225/2021  N:D3L,N:P151L,N:R203K,N:G204R,N:S235F,ORF1a:T5...   \n",
       "ARG/210613-39/2021   M:H125Y,N:P80R,N:R203K,N:G204R,ORF1a:S1188L,OR...   \n",
       "\n",
       "                    clock_deviation  \n",
       "strain                               \n",
       "?                                 ?  \n",
       "ARG/210316-1/2021               2.0  \n",
       "ARG/210524-2/2021               3.0  \n",
       "ARG/210610-225/2021             0.0  \n",
       "ARG/210613-39/2021              0.0  \n",
       "\n",
       "[5 rows x 51 columns]"
      ]
     },
     "execution_count": 12,
     "metadata": {},
     "output_type": "execute_result"
    }
   ],
   "source": [
    "metadata.index = metadata['strain']\n",
    "print(metadata['date']['Wuhan-Hu-1/2019'])\n",
    "metadata.head()"
   ]
  },
  {
   "cell_type": "markdown",
   "id": "82105f68",
   "metadata": {},
   "source": [
    "## 2 Structure data"
   ]
  },
  {
   "cell_type": "code",
   "execution_count": 33,
   "id": "3e269a74",
   "metadata": {},
   "outputs": [],
   "source": [
    "#dist every taxa to Wuhan-Hu-1/2019\n",
    "taxa1 = tree.taxon_namespace[0]\n",
    "#Keys: taxa, Values: divergence tree dist to roo\n",
    "divergence_dict = {}\n",
    "#Keys: taxa, Values: dates from meta data\n",
    "date_dict = {}\n",
    "\n",
    "#get data\n",
    "for taxa in tree.taxon_namespace[1:]:\n",
    "    taxa.label=taxa.label.replace(' ','_')\n",
    "    divergence_dict[taxa.label] = pdm.distance(taxa1,taxa)\n",
    "    date_dict[taxa.label] = metadata['date'][taxa.label]\n",
    "\n"
   ]
  },
  {
   "cell_type": "code",
   "execution_count": 36,
   "id": "9d954a45",
   "metadata": {
    "scrolled": true
   },
   "outputs": [
    {
     "data": {
      "text/plain": [
       "'2020-01-29'"
      ]
     },
     "execution_count": 36,
     "metadata": {},
     "output_type": "execute_result"
    }
   ],
   "source": [
    "date_dict['GBR/DMSOp13.5/2020']"
   ]
  },
  {
   "cell_type": "markdown",
   "id": "565a6d0d",
   "metadata": {},
   "source": [
    "### Quick plot of divergence"
   ]
  },
  {
   "cell_type": "code",
   "execution_count": 16,
   "id": "d83b6f1e",
   "metadata": {
    "scrolled": true
   },
   "outputs": [
    {
     "data": {
      "text/plain": [
       "<matplotlib.collections.PathCollection at 0x7f698397bd00>"
      ]
     },
     "execution_count": 16,
     "metadata": {},
     "output_type": "execute_result"
    },
    {
     "data": {
      "image/png": "[encoded data removed]",
      "text/plain": [
       "<Figure size 432x288 with 1 Axes>"
      ]
     },
     "metadata": {
      "needs_background": "light"
     },
     "output_type": "display_data"
    }
   ],
   "source": [
    "#change date to python format and plot\n",
    "dates = [pd.to_datetime(d) for d in date_dict.values()]\n",
    "divergence = [d for d in divergence_dict.values()]\n",
    "taxa = [d for d in divergence_dict.keys()]\n",
    "plt.scatter(dates,divergence)"
   ]
  },
  {
   "cell_type": "markdown",
   "id": "2e1722da",
   "metadata": {},
   "source": [
    "### Change YYYY-MM-DD to python float "
   ]
  },
  {
   "cell_type": "code",
   "execution_count": 17,
   "id": "132ca9c3",
   "metadata": {},
   "outputs": [
    {
     "data": {
      "text/plain": [
       "[0.0,\n",
       " 0.275791606272,\n",
       " 0.115733977632,\n",
       " 0.120658827744,\n",
       " 0.068947901568,\n",
       " 0.167444903808,\n",
       " 0.10342185235200001,\n",
       " 0.108346702464,\n",
       " 0.327502532448,\n",
       " 0.177294604032]"
      ]
     },
     "execution_count": 17,
     "metadata": {},
     "output_type": "execute_result"
    }
   ],
   "source": [
    "def datetime_to_float(d):\n",
    "    return d.timestamp()\n",
    "dates = [(datetime_to_float(d)-datetime_to_float(dates[0]))*2.850029e-8 for d in dates]\n",
    "dates[:10]"
   ]
  },
  {
   "cell_type": "code",
   "execution_count": 18,
   "id": "a79ce200",
   "metadata": {},
   "outputs": [
    {
     "name": "stdout",
     "output_type": "stream",
     "text": [
      "coefficient of determination: 0.9488161046135505\n",
      "intercept: [-0.52950389]\n",
      "slope: [[33.50000002]]\n"
     ]
    },
    {
     "data": {
      "image/png": "[encoded data removed]",
      "text/plain": [
       "<Figure size 432x288 with 1 Axes>"
      ]
     },
     "metadata": {
      "needs_background": "light"
     },
     "output_type": "display_data"
    }
   ],
   "source": [
    "#Rerun linear analysis from Nextstrain\n",
    "x = np.array(dates).reshape((-1, 1))\n",
    "y = np.array(divergence)\n",
    "model = LinearRegression()\n",
    "model.fit(x, y)\n",
    "r_sq = model.score(x, y)\n",
    "print(f\"coefficient of determination: {r_sq}\")\n",
    "plt.scatter(x,y)\n",
    "\n",
    "new_model = LinearRegression().fit(x, y.reshape((-1, 1)))\n",
    "print(f\"intercept: {new_model.intercept_}\")\n",
    "\n",
    "\n",
    "print(f\"slope: {new_model.coef_}\")"
   ]
  },
  {
   "cell_type": "code",
   "execution_count": 19,
   "id": "644a709d",
   "metadata": {
    "scrolled": false
   },
   "outputs": [
    {
     "name": "stdout",
     "output_type": "stream",
     "text": [
      "[[0.        ]\n",
      " [0.27579161]\n",
      " [0.11573398]\n",
      " [0.12065883]\n",
      " [0.0689479 ]] [10. 16.  6.  7.  7.]\n"
     ]
    }
   ],
   "source": [
    "print(x[:5],y[:5])\n",
    "x = np.array(dates)"
   ]
  },
  {
   "cell_type": "markdown",
   "id": "6a31649a",
   "metadata": {},
   "source": [
    "## 3 Analysis"
   ]
  },
  {
   "cell_type": "markdown",
   "id": "a5bba54b",
   "metadata": {},
   "source": [
    "### Scan increasing number of breakpoints and score"
   ]
  },
  {
   "cell_type": "code",
   "execution_count": 21,
   "id": "696f87d8",
   "metadata": {},
   "outputs": [
    {
     "name": "stdout",
     "output_type": "stream",
     "text": [
      "Running fit with n_breakpoint = 0 . . \n",
      "Running fit with n_breakpoint = 1 . . \n",
      "Running fit with n_breakpoint = 2 . . \n",
      "Running fit with n_breakpoint = 3 . . \n",
      "Running fit with n_breakpoint = 4 . . \n",
      "Running fit with n_breakpoint = 5 . . \n",
      "Running fit with n_breakpoint = 6 . . \n",
      "\n",
      "                 Breakpoint Model Comparision Results                 \n",
      "====================================================================================================\n",
      "n_breakpoints            BIC    converged          RSS \n",
      "----------------------------------------------------------------------------------------------------\n",
      "0                     8615.0         True   5.9462e+04 \n",
      "1                     8373.8         True   5.4283e+04 \n",
      "2                     8058.7         True   4.8274e+04 \n",
      "3                     7937.0         True   4.5974e+04 \n",
      "4                     7904.9         True     4.52e+04 \n",
      "5                     7917.0         True   4.5139e+04 \n",
      "6                                   False              \n",
      "\n",
      "Min BIC (Bayesian Information Criterion) suggests best model\n"
     ]
    }
   ],
   "source": [
    "ms = piecewise_regression.ModelSelection(x, y, max_breakpoints=6, n_boot = 2000)"
   ]
  },
  {
   "cell_type": "markdown",
   "id": "7b257872",
   "metadata": {},
   "source": [
    "### Plot BIC scores "
   ]
  },
  {
   "cell_type": "code",
   "execution_count": 22,
   "id": "c4e90a2b",
   "metadata": {},
   "outputs": [
    {
     "data": {
      "image/png": "[encoded data removed]",
      "text/plain": [
       "<Figure size 720x360 with 1 Axes>"
      ]
     },
     "metadata": {
      "needs_background": "light"
     },
     "output_type": "display_data"
    }
   ],
   "source": [
    "# function to add value labels\n",
    "def addlabels(x,y):\n",
    "    for i in range(len(x)):\n",
    "        plt.text(i,y[i],y[i])\n",
    "\n",
    "# creating the dataset\n",
    "data = {'0':8615.0, '1':8373.8, '2':8060.1,\n",
    "\t\t'3':7937.1,'4':7909.3,'5':7909.0,'6':False}\n",
    "courses = list(data.keys())\n",
    "values = list(data.values())\n",
    "\n",
    "fig = plt.figure(figsize = (10, 5))\n",
    "\n",
    "# creating the bar plot\n",
    "plt.bar(courses, values, color ='maroon',\n",
    "\t\twidth = 0.4)\n",
    "\n",
    "plt.xlabel(\"Number of breakpoints\")\n",
    "addlabels(courses,values)\n",
    "plt.ylabel(\"BIC\")\n",
    "plt.title(\"BIC per model\")\n",
    "plt.show()\n"
   ]
  },
  {
   "cell_type": "markdown",
   "id": "bdf3457b",
   "metadata": {},
   "source": [
    "### Plot min bic model"
   ]
  },
  {
   "cell_type": "code",
   "execution_count": 40,
   "id": "384633c4",
   "metadata": {},
   "outputs": [
    {
     "name": "stdout",
     "output_type": "stream",
     "text": [
      "\n",
      "                    Breakpoint Regression Results                     \n",
      "====================================================================================================\n",
      "No. Observations                     2821\n",
      "No. Model Parameters                   12\n",
      "Degrees of Freedom                   2809\n",
      "Res. Sum of Squares               45076.5\n",
      "Total Sum of Squares          1.16172e+06\n",
      "R Squared                        0.961199\n",
      "Adjusted R Squared               0.961033\n",
      "Converged:                           True\n",
      "====================================================================================================\n",
      "====================================================================================================\n",
      "                    Estimate      Std Err            t        P>|t|       [0.025       0.975]\n",
      "----------------------------------------------------------------------------------------------------\n",
      "const                4.58876        0.517       8.8788      1.18e-18       3.5754       5.6021\n",
      "alpha1               21.8035         1.17       18.664      2.23e-73       19.513       24.094\n",
      "beta1                16.6984          1.9       8.8045             -        12.98       20.417\n",
      "beta2               -14.5636         9.94      -1.4651             -      -34.055       4.9278\n",
      "beta3                30.1644         10.4       2.8881             -       9.6846       50.644\n",
      "beta4               -40.3976         3.64      -11.098             -      -47.535       -33.26\n",
      "beta5                209.827         25.8       8.1325             -       159.24       260.42\n",
      "breakpoint1         0.803601       0.0444            -             -      0.71654      0.89067\n",
      "breakpoint2          1.40423       0.0824            -             -       1.2426       1.5659\n",
      "breakpoint3          1.64384       0.0545            -             -        1.537       1.7507\n",
      "breakpoint4          2.00717       0.0232            -             -       1.9616       2.0527\n",
      "breakpoint5          2.40591      0.00269            -             -       2.4006       2.4112\n",
      "----------------------------------------------------------------------------------------------------\n",
      "These alphas(gradients of segments) are estimatedfrom betas(change in gradient)\n",
      "----------------------------------------------------------------------------------------------------\n",
      "alpha2               38.5019         1.49        25.77     1.25e-131       35.572       41.432\n",
      "alpha3               23.9383         9.83       2.4358        0.0149       4.6683       43.208\n",
      "alpha4               54.1027         3.54       15.298      8.32e-51       47.168       61.037\n",
      "alpha5               13.7052        0.862       15.894      1.56e-54       12.014       15.396\n",
      "alpha6               223.533         25.8       8.6685      7.27e-18       172.97        274.1\n",
      "====================================================================================================\n",
      "Davies test for existence of at least 1 breakpoint: p=0.0 (e.g. p<0.05 means reject null hypothesis of no breakpoints  at 5% significance)\n",
      "\n",
      "\n"
     ]
    },
    {
     "data": {
      "text/plain": [
       "'\\n                    Breakpoint Regression Results                     \\n====================================================================================================\\nNo. Observations                     2821\\nNo. Model Parameters                   12\\nDegrees of Freedom                   2809\\nRes. Sum of Squares               45076.5\\nTotal Sum of Squares          1.16172e+06\\nR Squared                        0.961199\\nAdjusted R Squared               0.961033\\nConverged:                           True\\n====================================================================================================\\n====================================================================================================\\n                    Estimate      Std Err            t        P>|t|       [0.025       0.975]\\n----------------------------------------------------------------------------------------------------\\nconst                4.58876        0.517       8.8788      1.18e-18       3.5754       5.6021\\nalpha1               21.8035         1.17       18.664      2.23e-73       19.513       24.094\\nbeta1                16.6984          1.9       8.8045             -        12.98       20.417\\nbeta2               -14.5636         9.94      -1.4651             -      -34.055       4.9278\\nbeta3                30.1644         10.4       2.8881             -       9.6846       50.644\\nbeta4               -40.3976         3.64      -11.098             -      -47.535       -33.26\\nbeta5                209.827         25.8       8.1325             -       159.24       260.42\\nbreakpoint1         0.803601       0.0444            -             -      0.71654      0.89067\\nbreakpoint2          1.40423       0.0824            -             -       1.2426       1.5659\\nbreakpoint3          1.64384       0.0545            -             -        1.537       1.7507\\nbreakpoint4          2.00717       0.0232            -             -       1.9616       2.0527\\nbreakpoint5          2.40591      0.00269            -             -       2.4006       2.4112\\n----------------------------------------------------------------------------------------------------\\nThese alphas(gradients of segments) are estimatedfrom betas(change in gradient)\\n----------------------------------------------------------------------------------------------------\\nalpha2               38.5019         1.49        25.77     1.25e-131       35.572       41.432\\nalpha3               23.9383         9.83       2.4358        0.0149       4.6683       43.208\\nalpha4               54.1027         3.54       15.298      8.32e-51       47.168       61.037\\nalpha5               13.7052        0.862       15.894      1.56e-54       12.014       15.396\\nalpha6               223.533         25.8       8.6685      7.27e-18       172.97        274.1\\n====================================================================================================\\nDavies test for existence of at least 1 breakpoint: p=0.0 (e.g. p<0.05 means reject null hypothesis of no breakpoints  at 5% significance)\\n\\n'"
      ]
     },
     "execution_count": 40,
     "metadata": {},
     "output_type": "execute_result"
    }
   ],
   "source": [
    "#Fit biologically simple model\n",
    "pw_fit = piecewise_regression.Fit(x, y, n_breakpoints=5,n_boot=200)\n",
    "pw_fit.summary()"
   ]
  },
  {
   "cell_type": "code",
   "execution_count": 41,
   "id": "f8c18bd9",
   "metadata": {},
   "outputs": [
    {
     "data": {
      "image/png": "[encoded data removed]",
      "text/plain": [
       "<Figure size 432x288 with 1 Axes>"
      ]
     },
     "metadata": {
      "needs_background": "light"
     },
     "output_type": "display_data"
    }
   ],
   "source": [
    "# Plot the data, fit, breakpoints and confidence intervals\n",
    "pw_fit.plot_data(color=\"grey\", s=20)\n",
    "# Pass in standard matplotlib keywords to control any of the plots\n",
    "pw_fit.plot_fit(color=\"red\", linewidth=2)\n",
    "pw_fit.plot_breakpoints()\n",
    "pw_fit.plot_breakpoint_confidence_intervals()\n",
    "plt.xlabel(\"Years since start\")\n",
    "plt.ylabel(\"Divergence\")\n",
    "plt.show()\n",
    "plt.close()"
   ]
  },
  {
   "cell_type": "markdown",
   "id": "a8fb815d",
   "metadata": {},
   "source": [
    "### Plot biologically simple model"
   ]
  },
  {
   "cell_type": "code",
   "execution_count": 39,
   "id": "93765087",
   "metadata": {},
   "outputs": [
    {
     "name": "stdout",
     "output_type": "stream",
     "text": [
      "\n",
      "                    Breakpoint Regression Results                     \n",
      "====================================================================================================\n",
      "No. Observations                     2821\n",
      "No. Model Parameters                    6\n",
      "Degrees of Freedom                   2815\n",
      "Res. Sum of Squares               48319.2\n",
      "Total Sum of Squares          1.16172e+06\n",
      "R Squared                        0.958407\n",
      "Adjusted R Squared               0.958319\n",
      "Converged:                           True\n",
      "====================================================================================================\n",
      "====================================================================================================\n",
      "                    Estimate      Std Err            t        P>|t|       [0.025       0.975]\n",
      "----------------------------------------------------------------------------------------------------\n",
      "const                4.67675        0.509       9.1876      7.58e-20       3.6786       5.6749\n",
      "alpha1                21.474         1.05        20.38      3.12e-86       19.408        23.54\n",
      "beta1                18.2529         1.12       16.226             -       16.047       20.459\n",
      "beta2                -20.673        0.973       -21.25             -      -22.581      -18.765\n",
      "breakpoint1         0.841396       0.0344            -             -      0.77392      0.90887\n",
      "breakpoint2          2.04062       0.0139            -             -       2.0134       2.0679\n",
      "----------------------------------------------------------------------------------------------------\n",
      "These alphas(gradients of segments) are estimatedfrom betas(change in gradient)\n",
      "----------------------------------------------------------------------------------------------------\n",
      "alpha2               39.7269        0.394       100.82           0.0       38.954         40.5\n",
      "alpha3               19.0539        0.889       21.421      1.97e-94        17.31       20.798\n",
      "====================================================================================================\n",
      "Davies test for existence of at least 1 breakpoint: p=0.0 (e.g. p<0.05 means reject null hypothesis of no breakpoints  at 5% significance)\n",
      "\n",
      "\n",
      "\n",
      "\n"
     ]
    }
   ],
   "source": [
    "#Fit biologically simple model\n",
    "pw_fit = piecewise_regression.Fit(x, y, n_breakpoints=2,n_boot=25)\n",
    "print(pw_fit.summary()[0])"
   ]
  },
  {
   "cell_type": "code",
   "execution_count": 26,
   "id": "2a1cda1f",
   "metadata": {},
   "outputs": [
    {
     "data": {
      "image/png": "[encoded data removed]",
      "text/plain": [
       "<Figure size 432x288 with 1 Axes>"
      ]
     },
     "metadata": {
      "needs_background": "light"
     },
     "output_type": "display_data"
    }
   ],
   "source": [
    "# Plot the data, fit, breakpoints and confidence intervals\n",
    "pw_fit.plot_data(color=\"grey\", s=20)\n",
    "# Pass in standard matplotlib keywords to control any of the plots\n",
    "pw_fit.plot_fit(color=\"red\", linewidth=2)\n",
    "pw_fit.plot_breakpoints()\n",
    "pw_fit.plot_breakpoint_confidence_intervals()\n",
    "plt.xlabel(\"Years since start\")\n",
    "plt.ylabel(\"Divergence\")\n",
    "plt.show()\n",
    "plt.close()"
   ]
  },
  {
   "cell_type": "markdown",
   "id": "9c6e6a61",
   "metadata": {},
   "source": [
    "## 5 Color plot (in the works)"
   ]
  },
  {
   "cell_type": "code",
   "execution_count": 42,
   "id": "c0d8a399",
   "metadata": {},
   "outputs": [
    {
     "name": "stdout",
     "output_type": "stream",
     "text": [
      "(('Wuhan-Hu-1/2019':0.0,(('GBR\n"
     ]
    }
   ],
   "source": [
    "#open nexus tree to color plot\n",
    "tree_nex = dendropy.Tree.get(\n",
    "    path=\"nextstrain_ncov_open_global_6m_tree.nexus\",\n",
    "    schema=\"nexus\",\n",
    "    )\n",
    "print(tree.as_string(schema=\"newick\",)[:30])"
   ]
  },
  {
   "cell_type": "code",
   "execution_count": 43,
   "id": "cfeb3dda",
   "metadata": {},
   "outputs": [
    {
     "name": "stdout",
     "output_type": "stream",
     "text": [
      "4831\n",
      "6308187\n"
     ]
    },
    {
     "ename": "NameError",
     "evalue": "name 'fuzz' is not defined",
     "output_type": "error",
     "traceback": [
      "\u001b[0;31m---------------------------------------------------------------------------\u001b[0m",
      "\u001b[0;31mNameError\u001b[0m                                 Traceback (most recent call last)",
      "Input \u001b[0;32mIn [43]\u001b[0m, in \u001b[0;36m<cell line: 2>\u001b[0;34m()\u001b[0m\n\u001b[1;32m     16\u001b[0m \u001b[38;5;28mprint\u001b[39m(\u001b[38;5;28mlen\u001b[39m(B_cleaned))\n\u001b[1;32m     18\u001b[0m \u001b[38;5;66;03m# Perform fuzzy string matching\u001b[39;00m\n\u001b[0;32m---> 19\u001b[0m tuples_list \u001b[38;5;241m=\u001b[39m [\u001b[38;5;28mmax\u001b[39m([(fuzz\u001b[38;5;241m.\u001b[39mtoken_set_ratio(i,j),j) \u001b[38;5;28;01mfor\u001b[39;00m j \u001b[38;5;129;01min\u001b[39;00m B_cleaned]) \u001b[38;5;28;01mfor\u001b[39;00m i \u001b[38;5;129;01min\u001b[39;00m A_cleaned]\n\u001b[1;32m     21\u001b[0m \u001b[38;5;66;03m# Unpack list of tuples into two lists\u001b[39;00m\n\u001b[1;32m     22\u001b[0m similarity_score, fuzzy_match \u001b[38;5;241m=\u001b[39m \u001b[38;5;28mmap\u001b[39m(\u001b[38;5;28mlist\u001b[39m,\u001b[38;5;28mzip\u001b[39m(\u001b[38;5;241m*\u001b[39mtuples_list))\n",
      "Input \u001b[0;32mIn [43]\u001b[0m, in \u001b[0;36m<listcomp>\u001b[0;34m(.0)\u001b[0m\n\u001b[1;32m     16\u001b[0m \u001b[38;5;28mprint\u001b[39m(\u001b[38;5;28mlen\u001b[39m(B_cleaned))\n\u001b[1;32m     18\u001b[0m \u001b[38;5;66;03m# Perform fuzzy string matching\u001b[39;00m\n\u001b[0;32m---> 19\u001b[0m tuples_list \u001b[38;5;241m=\u001b[39m [\u001b[38;5;28mmax\u001b[39m([(fuzz\u001b[38;5;241m.\u001b[39mtoken_set_ratio(i,j),j) \u001b[38;5;28;01mfor\u001b[39;00m j \u001b[38;5;129;01min\u001b[39;00m B_cleaned]) \u001b[38;5;28;01mfor\u001b[39;00m i \u001b[38;5;129;01min\u001b[39;00m A_cleaned]\n\u001b[1;32m     21\u001b[0m \u001b[38;5;66;03m# Unpack list of tuples into two lists\u001b[39;00m\n\u001b[1;32m     22\u001b[0m similarity_score, fuzzy_match \u001b[38;5;241m=\u001b[39m \u001b[38;5;28mmap\u001b[39m(\u001b[38;5;28mlist\u001b[39m,\u001b[38;5;28mzip\u001b[39m(\u001b[38;5;241m*\u001b[39mtuples_list))\n",
      "Input \u001b[0;32mIn [43]\u001b[0m, in \u001b[0;36m<listcomp>\u001b[0;34m(.0)\u001b[0m\n\u001b[1;32m     16\u001b[0m \u001b[38;5;28mprint\u001b[39m(\u001b[38;5;28mlen\u001b[39m(B_cleaned))\n\u001b[1;32m     18\u001b[0m \u001b[38;5;66;03m# Perform fuzzy string matching\u001b[39;00m\n\u001b[0;32m---> 19\u001b[0m tuples_list \u001b[38;5;241m=\u001b[39m [\u001b[38;5;28mmax\u001b[39m([(\u001b[43mfuzz\u001b[49m\u001b[38;5;241m.\u001b[39mtoken_set_ratio(i,j),j) \u001b[38;5;28;01mfor\u001b[39;00m j \u001b[38;5;129;01min\u001b[39;00m B_cleaned]) \u001b[38;5;28;01mfor\u001b[39;00m i \u001b[38;5;129;01min\u001b[39;00m A_cleaned]\n\u001b[1;32m     21\u001b[0m \u001b[38;5;66;03m# Unpack list of tuples into two lists\u001b[39;00m\n\u001b[1;32m     22\u001b[0m similarity_score, fuzzy_match \u001b[38;5;241m=\u001b[39m \u001b[38;5;28mmap\u001b[39m(\u001b[38;5;28mlist\u001b[39m,\u001b[38;5;28mzip\u001b[39m(\u001b[38;5;241m*\u001b[39mtuples_list))\n",
      "\u001b[0;31mNameError\u001b[0m: name 'fuzz' is not defined"
     ]
    }
   ],
   "source": [
    "#with open('nextstrain_ncov_gisaid_global_6m_tree.nexus') as f:\n",
    "with open('nextstrain_ncov_open_global_6m_tree.nexus') as f:\n",
    "    lines = f.readlines()        \n",
    "\n",
    "    # Change directory\n",
    "    # os.chdir(\"Your file path\")\n",
    "\n",
    "    # Import the customers data as data frames\n",
    "    # filename = \"customers lists input.xlsx\"\n",
    "    # customers = pd.read_excel(filename)\n",
    "\n",
    "    # Clean customers lists\n",
    "    B_cleaned = metadata['strain']\n",
    "    A_cleaned = lines[2].split(':')\n",
    "    print(len(A_cleaned))\n",
    "    print(len(B_cleaned))\n",
    "\n",
    "    # Perform fuzzy string matching\n",
    "    tuples_list = [max([(fuzz.token_set_ratio(i,j),j) for j in B_cleaned]) for i in A_cleaned]\n",
    "\n",
    "    # Unpack list of tuples into two lists\n",
    "    similarity_score, fuzzy_match = map(list,zip(*tuples_list))\n",
    "\n",
    "    # Create pandas DataFrame\n",
    "    df = pd.DataFrame({\"list_A\":A_cleaned, \"fuzzy match\": fuzzy_match, \"similarity score\":similarity_score})\n",
    "    print(df)"
   ]
  },
  {
   "cell_type": "code",
   "execution_count": 44,
   "id": "01aded58",
   "metadata": {},
   "outputs": [
    {
     "name": "stdout",
     "output_type": "stream",
     "text": [
      "4831\n",
      "6308187\n",
      "['  tree one = ((Wuhan-Hu-1/2019[&clade_membership=19A,num_date=2019.9849315068493,num_date_CI={2019.9849315068493,2019.9849315068493},emerging_lineage=19A,pango_lineage=B,Nextclade_pango=B,region=Asia,country=China,division=China,host=Homo sapiens,recency=Older,epiweek=201952]', '0,(AUS/SA04/2020[&clade_membership=19A,num_date=2020.0806010928961,num_date_CI={2020.0806010928961,2020.0806010928961},emerging_lineage=19A,pango_lineage=B.1,Nextclade_pango=B,mutational_fitness=0.000360522,region=Oceania,country=Australia,division=South Australia,host=Homo sapiens,recency=Older,epiweek=202005]', '4,((IND/nimh-7139/2020[&clade_membership=19A,num_date=2020.3237704918033,num_date_CI={2020.3237704918033,2020.3237704918033},emerging_lineage=19A,pango_lineage=B.6,Nextclade_pango=B.6.6,mutational_fitness=-0.07957380600000001,region=Asia,country=India,division=India,host=Homo sapiens,recency=Older,epiweek=202018]', '5,(NZL/20VR0174/2020[&clade_membership=19A,num_date=2020.1571038251366,num_date_CI={2020.1571038251366,2020.1571038251366},emerging_lineage=19A,pango_lineage=B.4,Nextclade_pango=B.4,mutational_fitness=-0.05674950000000001,region=Oceania,country=New Zealand,division=New Zealand,host=Homo sapiens,recency=Older,epiweek=202009]', '1,THA/CONI-0078/2020[&clade_membership=19A,num_date=2020.25,num_date_CI={2020.25,2020.25},emerging_lineage=19A,pango_lineage=B.4,Nextclade_pango=B.4,mutational_fitness=-0.06574950000000002,region=Asia,country=Thailand,division=Bangkok,host=Homo sapiens,recency=Older,epiweek=202014]']\n",
      "strain\n",
      "?                                        ?\n",
      "ARG/210316-1/2021        ARG/210316-1/2021\n",
      "ARG/210524-2/2021        ARG/210524-2/2021\n",
      "ARG/210610-225/2021    ARG/210610-225/2021\n",
      "ARG/210613-39/2021      ARG/210613-39/2021\n",
      "Name: strain, dtype: object\n",
      "[<Taxon 0x7f69c9b53910 'Wuhan-Hu-1/2019'>, <Taxon 0x7f69c9b53a90 'GBR/DMSOp13.5/2020'>, <Taxon 0x7f69c9b53b50 'KOR/CNUHV03-CA22/2020'>, <Taxon 0x7f69c9b53c70 'PER/covper066/2020'>, <Taxon 0x7f69c9b53d30 'NZL/20CV0266/2020'>]\n",
      "[<Taxon 0x7f681451cbe0 'Wuhan-Hu-1/2019'>, <Taxon 0x7f681477fe20 'AUS/SA04/2020'>, <Taxon 0x7f681445e580 'IND/nimh-7139/2020'>, <Taxon 0x7f68147801c0 'NZL/20VR0174/2020'>, <Taxon 0x7f6814782670 'THA/CONI-0078/2020'>]\n"
     ]
    }
   ],
   "source": [
    "print(len(A_cleaned))\n",
    "print(len(B_cleaned))\n",
    "\n",
    "print(A_cleaned[:5])\n",
    "print(B_cleaned[:5])\n",
    "print(tree.taxon_namespace[:5])\n",
    "print(tree_nex.taxon_namespace[:5])"
   ]
  },
  {
   "cell_type": "code",
   "execution_count": 50,
   "id": "35009689",
   "metadata": {},
   "outputs": [
    {
     "name": "stdout",
     "output_type": "stream",
     "text": [
      "tree one = ((Wuhan-Hu-1/2019[&\n"
     ]
    }
   ],
   "source": [
    "with open('nextstrain_ncov_open_global_6m_tree.nexus') as f:\n",
    "    lines = f.readlines()        \n",
    "    print(lines[-2].strip()[:30])\n",
    "    for nex_taxa in tree_nex.taxon_namespace:\n",
    "        #print(nex_taxa.label)\n",
    "        pos = lines[-2].find(nex_taxa.label)\n",
    "        #print('pos',lines[-2].find(nex_taxa.label))\n",
    "        #try:\n",
    "        #    print()\n",
    "            #print('date',metadata['date'][nex_taxa.label.replace(' ','_')])\n",
    "            \n",
    "            \n",
    "        #except:\n",
    "        #    print()\n",
    "            #print('WAIT')\n",
    "            #print()\n",
    "            \n",
    "    "
   ]
  }
 ],
 "metadata": {
  "kernelspec": {
   "display_name": "Python 3 (ipykernel)",
   "language": "python",
   "name": "python3"
  },
  "language_info": {
   "codemirror_mode": {
    "name": "ipython",
    "version": 3
   },
   "file_extension": ".py",
   "mimetype": "text/x-python",
   "name": "python",
   "nbconvert_exporter": "python",
   "pygments_lexer": "ipython3",
   "version": "3.9.12"
  }
 },
 "nbformat": 4,
 "nbformat_minor": 5
}
